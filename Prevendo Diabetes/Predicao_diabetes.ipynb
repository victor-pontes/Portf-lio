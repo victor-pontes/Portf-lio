{
  "nbformat": 4,
  "nbformat_minor": 0,
  "metadata": {
    "colab": {
      "name": "Predicao_diabetes.ipynb",
      "provenance": [],
      "collapsed_sections": [],
      "include_colab_link": true
    },
    "kernelspec": {
      "name": "python3",
      "display_name": "Python 3"
    },
    "accelerator": "GPU"
  },
  "cells": [
    {
      "cell_type": "markdown",
      "metadata": {
        "id": "view-in-github",
        "colab_type": "text"
      },
      "source": [
        "<a href=\"https://colab.research.google.com/github/victor-pontes/Portfolio/blob/master/Predicao_diabetes.ipynb\" target=\"_parent\"><img src=\"https://colab.research.google.com/assets/colab-badge.svg\" alt=\"Open In Colab\"/></a>"
      ]
    },
    {
      "cell_type": "markdown",
      "metadata": {
        "id": "UUEFUjSHWts5",
        "colab_type": "text"
      },
      "source": [
        "# **Predição de Diabetes Segundo o Perfil Populacional Brasileiro**\n",
        "\n",
        "Apresento neste notebook os modelos para predição de diabetes segundo o inquérito VIGITEL 2017. <br>\n",
        "[Ver descrição do estudo](https://victor-pontes.github.io/Portfolio/)"
      ]
    },
    {
      "cell_type": "code",
      "metadata": {
        "id": "v8FGpogCQoHf",
        "colab_type": "code",
        "colab": {}
      },
      "source": [
        "import pandas as pd\n",
        "import numpy as np\n",
        "import seaborn as sns\n",
        "import matplotlib.pyplot as plt\n",
        "from xgboost import XGBClassifier\n",
        "from lightgbm import LGBMClassifier\n",
        "from sklearn.svm import SVC\n",
        "from sklearn.model_selection import cross_validate\n",
        "from sklearn.ensemble import RandomForestClassifier\n",
        "from sklearn.ensemble import GradientBoostingClassifier\n",
        "from sklearn.model_selection import train_test_split\n",
        "from sklearn.feature_selection import RFECV"
      ],
      "execution_count": 0,
      "outputs": []
    },
    {
      "cell_type": "code",
      "metadata": {
        "id": "CiiplLDKYWpC",
        "colab_type": "code",
        "colab": {}
      },
      "source": [
        "# leitura dos dados\n",
        "all2017 = pd.read_csv('https://raw.githubusercontent.com/victor-pontes/Predicao_diabetes/master/all2017.csv')"
      ],
      "execution_count": 0,
      "outputs": []
    },
    {
      "cell_type": "markdown",
      "metadata": {
        "id": "BVyMYPGmyZ9K",
        "colab_type": "text"
      },
      "source": [
        "Criando dicionário com a especificação da natureza das variáveis."
      ]
    },
    {
      "cell_type": "code",
      "metadata": {
        "id": "QZj-NcVcqSLN",
        "colab_type": "code",
        "colab": {}
      },
      "source": [
        "dict = pd.read_excel('https://github.com/victor-pontes/Predicao_diabetes/blob/master/Dic_dados_2017.xlsx?raw=true', header=None)\n",
        "dict = dict[dict[0].notnull() & dict[4].notnull()]\n",
        "dict.drop([2], inplace=False, axis=0)\n",
        "dict = pd.Series(dict[4].array, index=dict[0].array)"
      ],
      "execution_count": 0,
      "outputs": []
    },
    {
      "cell_type": "code",
      "metadata": {
        "id": "M09rC47MnPJL",
        "colab_type": "code",
        "outputId": "dba988bb-d6ef-4cb5-9355-7663e6ac8296",
        "colab": {
          "base_uri": "https://localhost:8080/",
          "height": 119
        }
      },
      "source": [
        "dict.tail()"
      ],
      "execution_count": 0,
      "outputs": [
        {
          "output_type": "execute_result",
          "data": {
            "text/plain": [
              "pesorake                                               pesorake\n",
              "q9_i                              peso (kg) - valores imputados\n",
              "q11_i                           altura (cm) - valores imputados\n",
              "q59a_horas      RECODE of q59a (quantas horas assiste tv / dia)\n",
              "q59c_horas    RECODE of q59c (em média, este uso do computad...\n",
              "dtype: object"
            ]
          },
          "metadata": {
            "tags": []
          },
          "execution_count": 4
        }
      ]
    },
    {
      "cell_type": "markdown",
      "metadata": {
        "id": "W2QqYM46bocY",
        "colab_type": "text"
      },
      "source": [
        "### Análise Prévia:"
      ]
    },
    {
      "cell_type": "code",
      "metadata": {
        "id": "HNc9wZvUvg5g",
        "colab_type": "code",
        "outputId": "88112425-cf86-44e3-b84f-f2ea7ee18e32",
        "colab": {
          "base_uri": "https://localhost:8080/",
          "height": 34
        }
      },
      "source": [
        "all2017.shape"
      ],
      "execution_count": 0,
      "outputs": [
        {
          "output_type": "execute_result",
          "data": {
            "text/plain": [
              "(53034, 198)"
            ]
          },
          "metadata": {
            "tags": []
          },
          "execution_count": 5
        }
      ]
    },
    {
      "cell_type": "markdown",
      "metadata": {
        "id": "tpmpQGA4bxB_",
        "colab_type": "text"
      },
      "source": [
        "Trata-se de um problema dominado pela seleção de features, uma vez que a quantidade de variáveis é muito grande em relação ao total de registros. Para uma simples ilustração, um conjunto de 20 features binárias pode produzir mais de 1 milhão de combinações (2² = 1048576). Esta situação é conhecida como a **maldição da dimensionalidade**.\n",
        "Como perspectiva inicial, segundo minha experiência, o número de features deverá ser reduzido à valores de **20 a 30 features**\n",
        "\n"
      ]
    },
    {
      "cell_type": "markdown",
      "metadata": {
        "id": "arRycEm60xo4",
        "colab_type": "text"
      },
      "source": [
        "# Limpeza de dados"
      ]
    },
    {
      "cell_type": "code",
      "metadata": {
        "id": "hoO9HBF4adFj",
        "colab_type": "code",
        "colab": {}
      },
      "source": [
        "# A variável chave não é relevante para análise pois nenhum usuário será identificado, sendo eles diferenciado pelo index. \n",
        "# A variável é irrelevante por não apresentar variância, sempre é 2017. Será removida\n",
        "all2017.drop(['chave', 'ano'], axis=1, inplace=True) "
      ],
      "execution_count": 0,
      "outputs": []
    },
    {
      "cell_type": "code",
      "metadata": {
        "id": "uHLzqMQ6v3FK",
        "colab_type": "code",
        "outputId": "04de83d2-ca04-4fa2-8d7f-c2d162c70925",
        "colab": {
          "base_uri": "https://localhost:8080/",
          "height": 170
        }
      },
      "source": [
        "noise_cols =  ['r135', 'r136', 'r153', 'r137a', 'r154', 'r155', 'r156', 'r178']\n",
        "print(dict[noise_cols])"
      ],
      "execution_count": 0,
      "outputs": [
        {
          "output_type": "stream",
          "text": [
            "r135                     nos últimos 12 meses foi multado?\n",
            "r136                                          qual o local\n",
            "r153                                       passou em blitz\n",
            "r137a                                      parado em blitz\n",
            "r154                                   convidado bafometro\n",
            "r155                                       fez o bafometro\n",
            "r156                                          deu positivo\n",
            "r178     nos últimos 30 dias, uso de celular durante a ...\n",
            "dtype: object\n"
          ],
          "name": "stdout"
        }
      ]
    },
    {
      "cell_type": "code",
      "metadata": {
        "id": "G9hcNdsBObtB",
        "colab_type": "code",
        "colab": {}
      },
      "source": [
        "# noise_cols: informações de blitz é apenas ruído\n",
        "all2017.drop(noise_cols, axis=1,inplace=True)"
      ],
      "execution_count": 0,
      "outputs": []
    },
    {
      "cell_type": "code",
      "metadata": {
        "id": "zzQwiFJuj41C",
        "colab_type": "code",
        "outputId": "a34251d1-7e8d-4a17-fd9f-e65f95c24816",
        "colab": {
          "base_uri": "https://localhost:8080/",
          "height": 289
        }
      },
      "source": [
        "leakage_cols = ['r202', 'r204', 'r133a', 'r134c', 'd3', 'r133b', 'r134b', 'd1']\n",
        "print(dict[leakage_cols])  # Nem foram capturadas pelo dict"
      ],
      "execution_count": 0,
      "outputs": [
        {
          "output_type": "stream",
          "text": [
            "r202                           idade do ínicio do diabetes\n",
            "r204                                                   NaN\n",
            "r133a                                  comprimido diabetes\n",
            "r134c                                                  NaN\n",
            "d3       nos últimos 30 dias, ficou sem os comprimidos ...\n",
            "r133b                                    insulina diabetes\n",
            "r134b                      onde consegue insulina diabetes\n",
            "d1               nos últimos 30 dias, ficou sem a insulina\n",
            "dtype: object\n"
          ],
          "name": "stdout"
        },
        {
          "output_type": "stream",
          "text": [
            "/usr/local/lib/python3.6/dist-packages/pandas/core/series.py:1155: FutureWarning: \n",
            "Passing list-likes to .loc or [] with any missing label will raise\n",
            "KeyError in the future, you can use .reindex() as an alternative.\n",
            "\n",
            "See the documentation here:\n",
            "https://pandas.pydata.org/pandas-docs/stable/user_guide/indexing.html#deprecate-loc-reindex-listlike\n",
            "  return self.loc[key]\n"
          ],
          "name": "stderr"
        }
      ]
    },
    {
      "cell_type": "code",
      "metadata": {
        "id": "cWByXPzKX77p",
        "colab_type": "code",
        "colab": {}
      },
      "source": [
        "# Informações referentes ao tratamente do diabetes são target leakages\n",
        "all2017.drop(leakage_cols, axis=1,inplace=True)"
      ],
      "execution_count": 0,
      "outputs": []
    },
    {
      "cell_type": "markdown",
      "metadata": {
        "id": "xpEo8n6WlJRn",
        "colab_type": "text"
      },
      "source": [
        "## Tratando Missing Values"
      ]
    },
    {
      "cell_type": "code",
      "metadata": {
        "id": "YSvsLsaV17MQ",
        "colab_type": "code",
        "colab": {}
      },
      "source": [
        "# Function to display missing percentages\n",
        "def missing_percentage(df): \n",
        "    total = df.isnull().sum().sort_values(ascending = False)\n",
        "    percent = round(df.isnull().sum().sort_values(ascending = False)/len(df)*100,2)\n",
        "    missed_values = pd.concat([total, percent], axis=1, keys=['Total','Percent'])\n",
        "    return missed_values[missed_values.Total > 0]"
      ],
      "execution_count": 0,
      "outputs": []
    },
    {
      "cell_type": "code",
      "metadata": {
        "id": "JoJyu3jU17t2",
        "colab_type": "code",
        "outputId": "dff9c4dc-7470-4c4c-81eb-c31dabba4fbd",
        "colab": {
          "base_uri": "https://localhost:8080/",
          "height": 204
        }
      },
      "source": [
        "missed_values = missing_percentage(all2017)\n",
        "missed_values.head()"
      ],
      "execution_count": 0,
      "outputs": [
        {
          "output_type": "execute_result",
          "data": {
            "text/html": [
              "<div>\n",
              "<style scoped>\n",
              "    .dataframe tbody tr th:only-of-type {\n",
              "        vertical-align: middle;\n",
              "    }\n",
              "\n",
              "    .dataframe tbody tr th {\n",
              "        vertical-align: top;\n",
              "    }\n",
              "\n",
              "    .dataframe thead th {\n",
              "        text-align: right;\n",
              "    }\n",
              "</style>\n",
              "<table border=\"1\" class=\"dataframe\">\n",
              "  <thead>\n",
              "    <tr style=\"text-align: right;\">\n",
              "      <th></th>\n",
              "      <th>Total</th>\n",
              "      <th>Percent</th>\n",
              "    </tr>\n",
              "  </thead>\n",
              "  <tbody>\n",
              "    <tr>\n",
              "      <th>q61a_fx</th>\n",
              "      <td>52350</td>\n",
              "      <td>98.71</td>\n",
              "    </tr>\n",
              "    <tr>\n",
              "      <th>q61a</th>\n",
              "      <td>52350</td>\n",
              "      <td>98.71</td>\n",
              "    </tr>\n",
              "    <tr>\n",
              "      <th>r157</th>\n",
              "      <td>50628</td>\n",
              "      <td>95.46</td>\n",
              "    </tr>\n",
              "    <tr>\n",
              "      <th>q61_fx</th>\n",
              "      <td>50024</td>\n",
              "      <td>94.32</td>\n",
              "    </tr>\n",
              "    <tr>\n",
              "      <th>q61</th>\n",
              "      <td>50024</td>\n",
              "      <td>94.32</td>\n",
              "    </tr>\n",
              "  </tbody>\n",
              "</table>\n",
              "</div>"
            ],
            "text/plain": [
              "         Total  Percent\n",
              "q61a_fx  52350    98.71\n",
              "q61a     52350    98.71\n",
              "r157     50628    95.46\n",
              "q61_fx   50024    94.32\n",
              "q61      50024    94.32"
            ]
          },
          "metadata": {
            "tags": []
          },
          "execution_count": 12
        }
      ]
    },
    {
      "cell_type": "code",
      "metadata": {
        "id": "UXBP5KTA2Zop",
        "colab_type": "code",
        "outputId": "c8ece805-689e-4d9c-90df-4829a878731f",
        "colab": {
          "base_uri": "https://localhost:8080/",
          "height": 297
        }
      },
      "source": [
        "missed_values.describe()"
      ],
      "execution_count": 0,
      "outputs": [
        {
          "output_type": "execute_result",
          "data": {
            "text/html": [
              "<div>\n",
              "<style scoped>\n",
              "    .dataframe tbody tr th:only-of-type {\n",
              "        vertical-align: middle;\n",
              "    }\n",
              "\n",
              "    .dataframe tbody tr th {\n",
              "        vertical-align: top;\n",
              "    }\n",
              "\n",
              "    .dataframe thead th {\n",
              "        text-align: right;\n",
              "    }\n",
              "</style>\n",
              "<table border=\"1\" class=\"dataframe\">\n",
              "  <thead>\n",
              "    <tr style=\"text-align: right;\">\n",
              "      <th></th>\n",
              "      <th>Total</th>\n",
              "      <th>Percent</th>\n",
              "    </tr>\n",
              "  </thead>\n",
              "  <tbody>\n",
              "    <tr>\n",
              "      <th>count</th>\n",
              "      <td>69.000000</td>\n",
              "      <td>69.000000</td>\n",
              "    </tr>\n",
              "    <tr>\n",
              "      <th>mean</th>\n",
              "      <td>29294.782609</td>\n",
              "      <td>55.237681</td>\n",
              "    </tr>\n",
              "    <tr>\n",
              "      <th>std</th>\n",
              "      <td>16537.900504</td>\n",
              "      <td>31.182288</td>\n",
              "    </tr>\n",
              "    <tr>\n",
              "      <th>min</th>\n",
              "      <td>638.000000</td>\n",
              "      <td>1.200000</td>\n",
              "    </tr>\n",
              "    <tr>\n",
              "      <th>25%</th>\n",
              "      <td>19504.000000</td>\n",
              "      <td>36.780000</td>\n",
              "    </tr>\n",
              "    <tr>\n",
              "      <th>50%</th>\n",
              "      <td>32663.000000</td>\n",
              "      <td>61.590000</td>\n",
              "    </tr>\n",
              "    <tr>\n",
              "      <th>75%</th>\n",
              "      <td>44080.000000</td>\n",
              "      <td>83.120000</td>\n",
              "    </tr>\n",
              "    <tr>\n",
              "      <th>max</th>\n",
              "      <td>52350.000000</td>\n",
              "      <td>98.710000</td>\n",
              "    </tr>\n",
              "  </tbody>\n",
              "</table>\n",
              "</div>"
            ],
            "text/plain": [
              "              Total    Percent\n",
              "count     69.000000  69.000000\n",
              "mean   29294.782609  55.237681\n",
              "std    16537.900504  31.182288\n",
              "min      638.000000   1.200000\n",
              "25%    19504.000000  36.780000\n",
              "50%    32663.000000  61.590000\n",
              "75%    44080.000000  83.120000\n",
              "max    52350.000000  98.710000"
            ]
          },
          "metadata": {
            "tags": []
          },
          "execution_count": 13
        }
      ]
    },
    {
      "cell_type": "markdown",
      "metadata": {
        "id": "N3Unk-BM3Wxx",
        "colab_type": "text"
      },
      "source": [
        "### Analisando Fumantes\n",
        "\n",
        "Observa-se um alto grau de valores perdidos nas variáveis que registram o comportamento dos entrevistados quanto ao consumo do cigarro, portanto analisaremos as razões"
      ]
    },
    {
      "cell_type": "code",
      "metadata": {
        "id": "PXG3ImFzmaC7",
        "colab_type": "code",
        "outputId": "a94706d6-6784-4237-d6fe-8cb3795248df",
        "colab": {
          "base_uri": "https://localhost:8080/",
          "height": 170
        }
      },
      "source": [
        "print(dict[['q60', 'q61_fx', 'q61a_fx', 'q62', 'q63','q64', 'q67', 'q68']])"
      ],
      "execution_count": 0,
      "outputs": [
        {
          "output_type": "stream",
          "text": [
            "q60                                          fumante\n",
            "q61_fx       cigarros diário (agrupamento em faixas)\n",
            "q61a_fx     cigarros semanal (agrupamento em faixas)\n",
            "q62                              idade inÍcio (anos)\n",
            "q63                                     tentou parar\n",
            "q64                                       ex-fumante\n",
            "q67                          contato c/ fumo em casa\n",
            "q68                      contato c/ fumo no trabalho\n",
            "dtype: object\n"
          ],
          "name": "stdout"
        }
      ]
    },
    {
      "cell_type": "code",
      "metadata": {
        "id": "PY_Shogu3tlV",
        "colab_type": "code",
        "outputId": "cbf8af62-e169-48b9-8bbf-b2fb7d1fdc65",
        "colab": {
          "base_uri": "https://localhost:8080/",
          "height": 34
        }
      },
      "source": [
        "all2017['q60'].isnull().any()"
      ],
      "execution_count": 0,
      "outputs": [
        {
          "output_type": "execute_result",
          "data": {
            "text/plain": [
              "False"
            ]
          },
          "metadata": {
            "tags": []
          },
          "execution_count": 15
        }
      ]
    },
    {
      "cell_type": "code",
      "metadata": {
        "id": "dEAX-LAq3WEq",
        "colab_type": "code",
        "outputId": "18138880-296b-44a7-82ec-37fef71c07da",
        "colab": {
          "base_uri": "https://localhost:8080/",
          "height": 51
        }
      },
      "source": [
        "temp = all2017['q60'].value_counts()\n",
        "print(f'{temp[2]+temp[1]} pessoas são fumantes declaradas, \\\n",
        "o que representa {(temp[2]+temp[1])/temp.sum()*100:.2f}% da amostra.')\n",
        "print(f'{temp[1]} pessoas são fumantes diárias declaradas, \\\n",
        "o que representa {temp[1]/temp.sum()*100:.2f}% da amostra.')"
      ],
      "execution_count": 0,
      "outputs": [
        {
          "output_type": "stream",
          "text": [
            "3694 pessoas são fumantes declaradas, o que representa 6.97% da amostra.\n",
            "3010 pessoas são fumantes diárias declaradas, o que representa 5.68% da amostra.\n"
          ],
          "name": "stdout"
        }
      ]
    },
    {
      "cell_type": "code",
      "metadata": {
        "id": "ng0sRE-25Gis",
        "colab_type": "code",
        "outputId": "6bfe1b3b-ea8a-4fbe-a667-abe57287b4df",
        "colab": {
          "base_uri": "https://localhost:8080/",
          "height": 68
        }
      },
      "source": [
        "# Cigarros Diários: só responderam os fumantes diários declarados \n",
        "missed_values.loc['q61']"
      ],
      "execution_count": 0,
      "outputs": [
        {
          "output_type": "execute_result",
          "data": {
            "text/plain": [
              "Total      50024.00\n",
              "Percent       94.32\n",
              "Name: q61, dtype: float64"
            ]
          },
          "metadata": {
            "tags": []
          },
          "execution_count": 17
        }
      ]
    },
    {
      "cell_type": "code",
      "metadata": {
        "id": "cPB07kciEGOa",
        "colab_type": "code",
        "outputId": "0a7a56a4-d5bb-4392-be51-ec14d63acc05",
        "colab": {
          "base_uri": "https://localhost:8080/",
          "height": 561
        }
      },
      "source": [
        "all2017['q61'].value_counts()"
      ],
      "execution_count": 0,
      "outputs": [
        {
          "output_type": "execute_result",
          "data": {
            "text/plain": [
              "20.0     765\n",
              "10.0     552\n",
              "5.0      239\n",
              "15.0     234\n",
              "4.0      150\n",
              "3.0      149\n",
              "8.0      121\n",
              "6.0      118\n",
              "888.0    107\n",
              "40.0     107\n",
              "2.0       98\n",
              "30.0      86\n",
              "12.0      68\n",
              "7.0       60\n",
              "1.0       35\n",
              "25.0      22\n",
              "18.0      18\n",
              "13.0      15\n",
              "14.0      14\n",
              "60.0      14\n",
              "9.0       13\n",
              "17.0       8\n",
              "16.0       4\n",
              "50.0       3\n",
              "24.0       3\n",
              "11.0       2\n",
              "36.0       1\n",
              "29.0       1\n",
              "28.0       1\n",
              "19.0       1\n",
              "35.0       1\n",
              "Name: q61, dtype: int64"
            ]
          },
          "metadata": {
            "tags": []
          },
          "execution_count": 18
        }
      ]
    },
    {
      "cell_type": "code",
      "metadata": {
        "id": "VwrpuVj2_Ch3",
        "colab_type": "code",
        "colab": {}
      },
      "source": [
        "# Não fumantes: 0 cigarros diários\n",
        "all2017['q61'] = all2017['q61'].fillna(0)"
      ],
      "execution_count": 0,
      "outputs": []
    },
    {
      "cell_type": "code",
      "metadata": {
        "id": "VNYsen_SE8bm",
        "colab_type": "code",
        "outputId": "a2f35e88-f1d7-4d7e-805a-c916e46f63b0",
        "colab": {
          "base_uri": "https://localhost:8080/",
          "height": 68
        }
      },
      "source": [
        "# Idade que começou a fumar: só responderam os fumantes declarados\n",
        "missed_values.loc['q62']"
      ],
      "execution_count": 0,
      "outputs": [
        {
          "output_type": "execute_result",
          "data": {
            "text/plain": [
              "Total      49340.00\n",
              "Percent       93.03\n",
              "Name: q62, dtype: float64"
            ]
          },
          "metadata": {
            "tags": []
          },
          "execution_count": 20
        }
      ]
    },
    {
      "cell_type": "code",
      "metadata": {
        "id": "59d_V1HFFoXH",
        "colab_type": "code",
        "colab": {}
      },
      "source": [
        "all2017['q62'] = all2017['q62'].fillna(999) "
      ],
      "execution_count": 0,
      "outputs": []
    },
    {
      "cell_type": "code",
      "metadata": {
        "id": "LaVK754FGcrU",
        "colab_type": "code",
        "outputId": "c6a86027-458b-47cd-b920-da4b8ec9e337",
        "colab": {
          "base_uri": "https://localhost:8080/",
          "height": 85
        }
      },
      "source": [
        "# Ex fumantes: os fumantes não responderam\n",
        "print(dict['q64'])\n",
        "missed_values.loc['q64']"
      ],
      "execution_count": 0,
      "outputs": [
        {
          "output_type": "stream",
          "text": [
            "ex-fumante\n"
          ],
          "name": "stdout"
        },
        {
          "output_type": "execute_result",
          "data": {
            "text/plain": [
              "Total      3694.00\n",
              "Percent       6.97\n",
              "Name: q64, dtype: float64"
            ]
          },
          "metadata": {
            "tags": []
          },
          "execution_count": 22
        }
      ]
    },
    {
      "cell_type": "code",
      "metadata": {
        "id": "N64z7rz6G4SU",
        "colab_type": "code",
        "colab": {}
      },
      "source": [
        "# valores nulos - fumantes: input (0) --   0: Fumante, 1:Ex-fumante diário, 2:Ex-fumante não diário, 3:Nunca fumou \n",
        "all2017['q64'] = all2017['q64'].fillna(0) "
      ],
      "execution_count": 0,
      "outputs": []
    },
    {
      "cell_type": "code",
      "metadata": {
        "id": "Z2e0NI5yICXG",
        "colab_type": "code",
        "outputId": "f3d27586-0e7b-4cef-ab6d-a35febff3d75",
        "colab": {
          "base_uri": "https://localhost:8080/",
          "height": 51
        }
      },
      "source": [
        "print(dict['q67'])\n",
        "print(dict['q68'])"
      ],
      "execution_count": 0,
      "outputs": [
        {
          "output_type": "stream",
          "text": [
            "contato c/ fumo em casa\n",
            "contato c/ fumo no trabalho\n"
          ],
          "name": "stdout"
        }
      ]
    },
    {
      "cell_type": "code",
      "metadata": {
        "id": "qt7YtjfzHaGx",
        "colab_type": "code",
        "outputId": "7749a12a-9127-41a6-e22c-ec1d865b6122",
        "colab": {
          "base_uri": "https://localhost:8080/",
          "height": 51
        }
      },
      "source": [
        "print(missed_values.loc['q67']['Percent'])\n",
        "print(missed_values.loc['q68']['Percent'])"
      ],
      "execution_count": 0,
      "outputs": [
        {
          "output_type": "stream",
          "text": [
            "18.1\n",
            "50.51\n"
          ],
          "name": "stdout"
        }
      ]
    },
    {
      "cell_type": "code",
      "metadata": {
        "id": "vn_TMsqAI6Tq",
        "colab_type": "code",
        "colab": {}
      },
      "source": [
        "# Fillna 999 \n",
        "all2017['q67'] = all2017['q67'].fillna(999)\n",
        "all2017['q68'] = all2017['q68'].fillna(999)"
      ],
      "execution_count": 0,
      "outputs": []
    },
    {
      "cell_type": "code",
      "metadata": {
        "id": "xGOGTIbw7aV1",
        "colab_type": "code",
        "outputId": "3a833a71-a3eb-4291-c74b-61c36b1b8dce",
        "colab": {
          "base_uri": "https://localhost:8080/",
          "height": 68
        }
      },
      "source": [
        "# q61a - cigarros semanal\n",
        "print(dict['q61_fx'],'\\n', dict['q61a_fx'], '\\n', dict['q63'])"
      ],
      "execution_count": 0,
      "outputs": [
        {
          "output_type": "stream",
          "text": [
            "cigarros diário (agrupamento em faixas) \n",
            "  cigarros semanal (agrupamento em faixas) \n",
            " tentou parar\n"
          ],
          "name": "stdout"
        }
      ]
    },
    {
      "cell_type": "code",
      "metadata": {
        "id": "p7ZjRCkCJQnG",
        "colab_type": "code",
        "colab": {}
      },
      "source": [
        "noise_cols = ['q61a', 'q61_fx', 'q61a_fx', 'q63']\n",
        "all2017.drop(noise_cols, axis=1,inplace=True)"
      ],
      "execution_count": 0,
      "outputs": []
    },
    {
      "cell_type": "code",
      "metadata": {
        "id": "ztT-gJThJqNg",
        "colab_type": "code",
        "outputId": "9f4ddca5-db86-49b4-e331-2a426afbbe31",
        "colab": {
          "base_uri": "https://localhost:8080/",
          "height": 359
        }
      },
      "source": [
        "missed_values = missing_percentage(all2017)\n",
        "missed_values.head(10)"
      ],
      "execution_count": 0,
      "outputs": [
        {
          "output_type": "execute_result",
          "data": {
            "text/html": [
              "<div>\n",
              "<style scoped>\n",
              "    .dataframe tbody tr th:only-of-type {\n",
              "        vertical-align: middle;\n",
              "    }\n",
              "\n",
              "    .dataframe tbody tr th {\n",
              "        vertical-align: top;\n",
              "    }\n",
              "\n",
              "    .dataframe thead th {\n",
              "        text-align: right;\n",
              "    }\n",
              "</style>\n",
              "<table border=\"1\" class=\"dataframe\">\n",
              "  <thead>\n",
              "    <tr style=\"text-align: right;\">\n",
              "      <th></th>\n",
              "      <th>Total</th>\n",
              "      <th>Percent</th>\n",
              "    </tr>\n",
              "  </thead>\n",
              "  <tbody>\n",
              "    <tr>\n",
              "      <th>r157</th>\n",
              "      <td>50628</td>\n",
              "      <td>95.46</td>\n",
              "    </tr>\n",
              "    <tr>\n",
              "      <th>r138</th>\n",
              "      <td>49214</td>\n",
              "      <td>92.80</td>\n",
              "    </tr>\n",
              "    <tr>\n",
              "      <th>q54</th>\n",
              "      <td>49033</td>\n",
              "      <td>92.46</td>\n",
              "    </tr>\n",
              "    <tr>\n",
              "      <th>q40</th>\n",
              "      <td>48065</td>\n",
              "      <td>90.63</td>\n",
              "    </tr>\n",
              "    <tr>\n",
              "      <th>r148_mm</th>\n",
              "      <td>47001</td>\n",
              "      <td>88.62</td>\n",
              "    </tr>\n",
              "    <tr>\n",
              "      <th>r148_hh</th>\n",
              "      <td>47001</td>\n",
              "      <td>88.62</td>\n",
              "    </tr>\n",
              "    <tr>\n",
              "      <th>r147</th>\n",
              "      <td>47001</td>\n",
              "      <td>88.62</td>\n",
              "    </tr>\n",
              "    <tr>\n",
              "      <th>q38</th>\n",
              "      <td>46331</td>\n",
              "      <td>87.36</td>\n",
              "    </tr>\n",
              "    <tr>\n",
              "      <th>r200</th>\n",
              "      <td>45879</td>\n",
              "      <td>86.51</td>\n",
              "    </tr>\n",
              "    <tr>\n",
              "      <th>q39</th>\n",
              "      <td>45879</td>\n",
              "      <td>86.51</td>\n",
              "    </tr>\n",
              "  </tbody>\n",
              "</table>\n",
              "</div>"
            ],
            "text/plain": [
              "         Total  Percent\n",
              "r157     50628    95.46\n",
              "r138     49214    92.80\n",
              "q54      49033    92.46\n",
              "q40      48065    90.63\n",
              "r148_mm  47001    88.62\n",
              "r148_hh  47001    88.62\n",
              "r147     47001    88.62\n",
              "q38      46331    87.36\n",
              "r200     45879    86.51\n",
              "q39      45879    86.51"
            ]
          },
          "metadata": {
            "tags": []
          },
          "execution_count": 29
        }
      ]
    },
    {
      "cell_type": "code",
      "metadata": {
        "id": "AKp_QByFOovX",
        "colab_type": "code",
        "outputId": "6826f4b4-9c90-43ed-a5ec-134eb92b3988",
        "colab": {
          "base_uri": "https://localhost:8080/",
          "height": 34
        }
      },
      "source": [
        "missed_values.shape"
      ],
      "execution_count": 0,
      "outputs": [
        {
          "output_type": "execute_result",
          "data": {
            "text/plain": [
              "(60, 2)"
            ]
          },
          "metadata": {
            "tags": []
          },
          "execution_count": 30
        }
      ]
    },
    {
      "cell_type": "code",
      "metadata": {
        "id": "rGKYU06CY-7u",
        "colab_type": "code",
        "colab": {}
      },
      "source": [
        "# Para as demais variáveis, input 999\n",
        "all2017 = all2017.fillna(999)"
      ],
      "execution_count": 0,
      "outputs": []
    },
    {
      "cell_type": "markdown",
      "metadata": {
        "id": "_cavfZTKBEa9",
        "colab_type": "text"
      },
      "source": [
        "### Avaliando Target: rótulo diabetes"
      ]
    },
    {
      "cell_type": "code",
      "metadata": {
        "id": "uKyNkRXHBWgO",
        "colab_type": "code",
        "colab": {}
      },
      "source": [
        "# Renomeando Target\n",
        "all2017.rename(columns={'q76': \"Diabetes\"}, inplace=True)"
      ],
      "execution_count": 0,
      "outputs": []
    },
    {
      "cell_type": "code",
      "metadata": {
        "id": "W5p4Wk4fB4JS",
        "colab_type": "code",
        "outputId": "908d3092-35c4-4be3-c22e-86f376d63345",
        "colab": {
          "base_uri": "https://localhost:8080/",
          "height": 85
        }
      },
      "source": [
        "value_diabetes = all2017['Diabetes'].value_counts()\n",
        "value_diabetes"
      ],
      "execution_count": 0,
      "outputs": [
        {
          "output_type": "execute_result",
          "data": {
            "text/plain": [
              "2      47007\n",
              "1       5956\n",
              "777       71\n",
              "Name: Diabetes, dtype: int64"
            ]
          },
          "metadata": {
            "tags": []
          },
          "execution_count": 33
        }
      ]
    },
    {
      "cell_type": "code",
      "metadata": {
        "id": "Fz8fnlgtBOoT",
        "colab_type": "code",
        "outputId": "158c3363-50fe-42f1-87b3-e81de233ea9b",
        "colab": {
          "base_uri": "https://localhost:8080/",
          "height": 34
        }
      },
      "source": [
        "print(f'{value_diabetes[1]} se declararam diabéticos, \\\n",
        "o que representa {100*value_diabetes[1]/value_diabetes.sum():.2f}% dos entrevistados')"
      ],
      "execution_count": 0,
      "outputs": [
        {
          "output_type": "stream",
          "text": [
            "5956 se declararam diabéticos, o que representa 11.23% dos entrevistados\n"
          ],
          "name": "stdout"
        }
      ]
    },
    {
      "cell_type": "markdown",
      "metadata": {
        "id": "i3ZXSHtYD_mN",
        "colab_type": "text"
      },
      "source": [
        "Transformando em variável binária:\n",
        "\n",
        "\n",
        "* 0: Não declarado diabético\n",
        "\n",
        "* 1: Diabético declarado\n",
        "\n"
      ]
    },
    {
      "cell_type": "code",
      "metadata": {
        "id": "XRhUyXb9CKaH",
        "colab_type": "code",
        "colab": {}
      },
      "source": [
        "all2017['Diabetes'] = all2017['Diabetes'].apply(lambda x: 1 if x == 1 else 0) "
      ],
      "execution_count": 0,
      "outputs": []
    },
    {
      "cell_type": "markdown",
      "metadata": {
        "id": "M69PFwlgVQF3",
        "colab_type": "text"
      },
      "source": [
        "Procurando por Target Leakage"
      ]
    },
    {
      "cell_type": "code",
      "metadata": {
        "id": "WDS1MpUPXgId",
        "colab_type": "code",
        "outputId": "0ee3a625-65e1-4535-c8a4-36ea1997ad24",
        "colab": {
          "base_uri": "https://localhost:8080/",
          "height": 204
        }
      },
      "source": [
        "corr = all2017.corr()['Diabetes'][:]\n",
        "corr = corr.apply(lambda x:abs(x)).sort_values(ascending=False)\n",
        "corr.head(10)"
      ],
      "execution_count": 0,
      "outputs": [
        {
          "output_type": "execute_result",
          "data": {
            "text/plain": [
              "diab           1.000000\n",
              "db             1.000000\n",
              "Diabetes       1.000000\n",
              "ind_med_db     0.970631\n",
              "trat_med_db    0.940840\n",
              "med_db         0.917750\n",
              "r138           0.781213\n",
              "insulina       0.405545\n",
              "med_has        0.274567\n",
              "r174           0.274198\n",
              "Name: Diabetes, dtype: float64"
            ]
          },
          "metadata": {
            "tags": []
          },
          "execution_count": 36
        }
      ]
    },
    {
      "cell_type": "code",
      "metadata": {
        "id": "SrAUeQ99Y_mt",
        "colab_type": "code",
        "colab": {}
      },
      "source": [
        "# Removendo variáveis iguais db e diab, e outras relativas ao tratamente de diabetes, o que só se realiza em diabéticos.\n",
        "leakage_cols = ['db', 'diab', 'ind_med_db', 'trat_med_db', 'med_db','insulina']\n",
        "all2017.drop(leakage_cols, axis=1,inplace=True)"
      ],
      "execution_count": 0,
      "outputs": []
    },
    {
      "cell_type": "code",
      "metadata": {
        "id": "0nYQs4f70_rJ",
        "colab_type": "code",
        "outputId": "791c1ae1-cc99-43db-fe4e-4fabeb2f54c6",
        "colab": {
          "base_uri": "https://localhost:8080/",
          "height": 34
        }
      },
      "source": [
        "dict['r138']"
      ],
      "execution_count": 0,
      "outputs": [
        {
          "output_type": "execute_result",
          "data": {
            "text/plain": [
              "'diabetes apenas na gravidez'"
            ]
          },
          "metadata": {
            "tags": []
          },
          "execution_count": 38
        }
      ]
    },
    {
      "cell_type": "markdown",
      "metadata": {
        "id": "WEbD-pp_ZhsN",
        "colab_type": "text"
      },
      "source": [
        "Observa-se altíssima correlação entre a diabetes e a variável **r138** que indica diabete apenas na gravidez. Tal variável é um exemplo claro de **target leakage** pois carrega consigo a informação de que a mulher que teve diabetes gestacional, não tem diabetes do tipo 1 e 2.\n",
        "\n",
        "Nenhuma relação tornaria a variável útil em abiente em produção, portanto, a mesma **deve ser removida.**"
      ]
    },
    {
      "cell_type": "code",
      "metadata": {
        "id": "UohK4nw88zoh",
        "colab_type": "code",
        "colab": {}
      },
      "source": [
        "all2017.drop(['r138'], axis=1, inplace=True) "
      ],
      "execution_count": 0,
      "outputs": []
    },
    {
      "cell_type": "markdown",
      "metadata": {
        "id": "TbuHPumWljQ1",
        "colab_type": "text"
      },
      "source": [
        "Verificando existência de colunas não numéricas"
      ]
    },
    {
      "cell_type": "code",
      "metadata": {
        "id": "p9MMMib5ir6E",
        "colab_type": "code",
        "outputId": "3169e01d-d6f4-4811-8f64-caa6cb798720",
        "colab": {
          "base_uri": "https://localhost:8080/",
          "height": 34
        }
      },
      "source": [
        "object_cols = [col for col in all2017.columns if all2017[col].dtype == \"object\"]\n",
        "object_cols"
      ],
      "execution_count": 0,
      "outputs": [
        {
          "output_type": "execute_result",
          "data": {
            "text/plain": [
              "['cidade']"
            ]
          },
          "metadata": {
            "tags": []
          },
          "execution_count": 40
        }
      ]
    },
    {
      "cell_type": "code",
      "metadata": {
        "id": "3iDyhCmlyUA_",
        "colab_type": "code",
        "outputId": "3fa28512-13fe-4c00-89d0-b15bf52a4e24",
        "colab": {
          "base_uri": "https://localhost:8080/",
          "height": 493
        }
      },
      "source": [
        "all2017.cidade.value_counts()"
      ],
      "execution_count": 0,
      "outputs": [
        {
          "output_type": "execute_result",
          "data": {
            "text/plain": [
              "c16    2070\n",
              "c17    2067\n",
              "c11    2063\n",
              "c07    2063\n",
              "c13    2056\n",
              "c26    2055\n",
              "c19    2053\n",
              "c23    2051\n",
              "c10    2048\n",
              "c22    2048\n",
              "c25    2041\n",
              "c05    2032\n",
              "c21    2031\n",
              "c09    2027\n",
              "c06    2026\n",
              "c01    2025\n",
              "c24    2020\n",
              "c15    2018\n",
              "c03    2008\n",
              "c08    1970\n",
              "c02    1920\n",
              "c27    1906\n",
              "c18    1846\n",
              "c20    1831\n",
              "c04    1674\n",
              "c14    1646\n",
              "c12    1439\n",
              "Name: cidade, dtype: int64"
            ]
          },
          "metadata": {
            "tags": []
          },
          "execution_count": 41
        }
      ]
    },
    {
      "cell_type": "code",
      "metadata": {
        "id": "SFc9f5-MkXWe",
        "colab_type": "code",
        "colab": {}
      },
      "source": [
        "# Convertendo cidade\n",
        "all2017['cidade'] = all2017['cidade'].str[1:].astype('int64')"
      ],
      "execution_count": 0,
      "outputs": []
    },
    {
      "cell_type": "code",
      "metadata": {
        "id": "X2mV-Noc9GoI",
        "colab_type": "code",
        "outputId": "c6487383-f522-42a4-bab0-e4fff841e617",
        "colab": {
          "base_uri": "https://localhost:8080/",
          "height": 34
        }
      },
      "source": [
        "all2017.shape"
      ],
      "execution_count": 0,
      "outputs": [
        {
          "output_type": "execute_result",
          "data": {
            "text/plain": [
              "(53034, 169)"
            ]
          },
          "metadata": {
            "tags": []
          },
          "execution_count": 43
        }
      ]
    },
    {
      "cell_type": "markdown",
      "metadata": {
        "id": "lpyAq0IMZNok",
        "colab_type": "text"
      },
      "source": [
        "# Pré-processamento\n",
        "\n",
        "Tendo sido realizado alguns estágios de limpeza dos dados, ainda é priciso remover features redundadantes. Dado o ainda valores de features (168), se tornaria dificil visualizar a matriz de correlação entre essas variáveis, desta forma, serão realizadas sucessivas análises das correlação entre as features mais importantes para remoção da redundancia entre as principais features, que serão consideradas na análise"
      ]
    },
    {
      "cell_type": "code",
      "metadata": {
        "id": "Tu-bxudofVxT",
        "colab_type": "code",
        "colab": {}
      },
      "source": [
        "X = all2017.drop(['Diabetes'], axis=1) \n",
        "y = all2017['Diabetes']"
      ],
      "execution_count": 0,
      "outputs": []
    },
    {
      "cell_type": "code",
      "metadata": {
        "id": "DeyAVJV2F_5N",
        "colab_type": "code",
        "colab": {}
      },
      "source": [
        "def feature_importance_fun(X, y):\n",
        "    X_train, X_valid, y_train, y_valid = train_test_split(X, y, test_size = 0.8, random_state = 42)\n",
        "    rf = RandomForestClassifier(n_estimators = 100,\n",
        "                                n_jobs = -1,\n",
        "                                oob_score = True,\n",
        "                                bootstrap = True,\n",
        "                                random_state = 42)\n",
        "    rf.fit(X_train, y_train)\n",
        "\n",
        "    print('R^2 Training Score: {:.2f} \\nOOB Score: {:.2f} \\nR^2 Validation Score: {:.2f}'.format(rf.score(X_train, y_train), \n",
        "                                                                                                 rf.oob_score_,\n",
        "                                                                                                 rf.score(X_valid, y_valid)))\n",
        "    \n",
        "    feature_importance = pd.Series(rf.feature_importances_, index=X.columns.array).sort_values(ascending=False)\n",
        "    return feature_importance"
      ],
      "execution_count": 0,
      "outputs": []
    },
    {
      "cell_type": "code",
      "metadata": {
        "id": "lomWb0wsGYUt",
        "colab_type": "code",
        "outputId": "13ffc2f3-8a1f-46f3-99be-1dc8289542e1",
        "colab": {
          "base_uri": "https://localhost:8080/",
          "height": 68
        }
      },
      "source": [
        "feature_importance = feature_importance_fun(X,y)"
      ],
      "execution_count": 0,
      "outputs": [
        {
          "output_type": "stream",
          "text": [
            "R^2 Training Score: 1.00 \n",
            "OOB Score: 0.89 \n",
            "R^2 Validation Score: 0.89\n"
          ],
          "name": "stdout"
        }
      ]
    },
    {
      "cell_type": "code",
      "metadata": {
        "id": "sikl_y7ZGwla",
        "colab_type": "code",
        "outputId": "e768177a-aebf-4722-e72b-3bfa5feb4577",
        "colab": {
          "base_uri": "https://localhost:8080/",
          "height": 544
        }
      },
      "source": [
        "feature_importance.head(30)"
      ],
      "execution_count": 0,
      "outputs": [
        {
          "output_type": "execute_result",
          "data": {
            "text/plain": [
              "q6              0.026240\n",
              "imc_i           0.026075\n",
              "pesorake        0.023361\n",
              "imc             0.022008\n",
              "q9_i            0.020220\n",
              "q9              0.019788\n",
              "q74             0.019739\n",
              "q11_i           0.019468\n",
              "replica         0.019289\n",
              "cidade          0.019056\n",
              "q11             0.019049\n",
              "r130a           0.015730\n",
              "mesfim          0.015514\n",
              "q8_anos         0.015143\n",
              "q59a_horas      0.011927\n",
              "q59a            0.011725\n",
              "flvdia          0.011407\n",
              "q8b             0.011127\n",
              "q25             0.010924\n",
              "q8a             0.010501\n",
              "r180            0.010352\n",
              "regiao          0.010221\n",
              "r144b           0.010019\n",
              "q21             0.009796\n",
              "q15             0.009744\n",
              "q23             0.009677\n",
              "q17             0.009646\n",
              "faxinasemana    0.009514\n",
              "r129            0.009499\n",
              "fet             0.009445\n",
              "dtype: float64"
            ]
          },
          "metadata": {
            "tags": []
          },
          "execution_count": 47
        }
      ]
    },
    {
      "cell_type": "code",
      "metadata": {
        "id": "FdFwf8dDuHyD",
        "colab_type": "code",
        "colab": {}
      },
      "source": [
        "most_important = list(feature_importance.index[:30])"
      ],
      "execution_count": 0,
      "outputs": []
    },
    {
      "cell_type": "code",
      "metadata": {
        "id": "ouqRnobXzSGa",
        "colab_type": "code",
        "outputId": "2457cd3e-0a85-4076-c523-85e50b7bcd70",
        "colab": {
          "base_uri": "https://localhost:8080/",
          "height": 527
        }
      },
      "source": [
        "most_important"
      ],
      "execution_count": 0,
      "outputs": [
        {
          "output_type": "execute_result",
          "data": {
            "text/plain": [
              "['q6',\n",
              " 'imc_i',\n",
              " 'pesorake',\n",
              " 'imc',\n",
              " 'q9_i',\n",
              " 'q9',\n",
              " 'q74',\n",
              " 'q11_i',\n",
              " 'replica',\n",
              " 'cidade',\n",
              " 'q11',\n",
              " 'r130a',\n",
              " 'mesfim',\n",
              " 'q8_anos',\n",
              " 'q59a_horas',\n",
              " 'q59a',\n",
              " 'flvdia',\n",
              " 'q8b',\n",
              " 'q25',\n",
              " 'q8a',\n",
              " 'r180',\n",
              " 'regiao',\n",
              " 'r144b',\n",
              " 'q21',\n",
              " 'q15',\n",
              " 'q23',\n",
              " 'q17',\n",
              " 'faxinasemana',\n",
              " 'r129',\n",
              " 'fet']"
            ]
          },
          "metadata": {
            "tags": []
          },
          "execution_count": 49
        }
      ]
    },
    {
      "cell_type": "code",
      "metadata": {
        "id": "YO8KUQlNv75X",
        "colab_type": "code",
        "colab": {}
      },
      "source": [
        "def matriz_corr(X):\n",
        "    sns.set(style=\"white\")\n",
        "\n",
        "    # Compute the correlation matrix\n",
        "    corr = X.corr()\n",
        "\n",
        "    # Generate a mask for the upper triangle\n",
        "    mask = np.zeros_like(corr, dtype=np.bool)\n",
        "    mask[np.triu_indices_from(mask)] = True\n",
        "\n",
        "    # Set up the matplotlib figure\n",
        "    f, ax = plt.subplots(figsize=(14, 12))\n",
        "\n",
        "    # Generate a custom diverging colormap\n",
        "    cmap = sns.diverging_palette(220, 10, as_cmap=True)\n",
        "\n",
        "    # Draw the heatmap with the mask and correct aspect ratio\n",
        "    sns.heatmap(corr, mask=mask, cmap=cmap, vmax=.3, center=0,\n",
        "                square=True, linewidths=.5, cbar_kws={\"shrink\": .5});"
      ],
      "execution_count": 0,
      "outputs": []
    },
    {
      "cell_type": "code",
      "metadata": {
        "id": "gn6-gpXP-w6y",
        "colab_type": "code",
        "outputId": "d9ba7b33-e0d4-43a4-c2aa-96034ff7a4f1",
        "colab": {
          "base_uri": "https://localhost:8080/",
          "height": 743
        }
      },
      "source": [
        "matriz_corr(X[most_important])"
      ],
      "execution_count": 0,
      "outputs": [
        {
          "output_type": "display_data",
          "data": {
            "image/png": "[encoded data removed]",
            "text/plain": [
              "<Figure size 1008x864 with 2 Axes>"
            ]
          },
          "metadata": {
            "tags": []
          }
        }
      ]
    },
    {
      "cell_type": "code",
      "metadata": {
        "id": "50-rcPCU_b9X",
        "colab_type": "code",
        "colab": {}
      },
      "source": [
        "def corr_importance(feature):\n",
        "    corr = X.corr()[feature][:]\n",
        "    corr = corr.apply(lambda x:abs(x)).sort_values(ascending=False)\n",
        "    fi = pd.Series(corr.index).apply(lambda x:feature_importance[x])\n",
        "    return pd.DataFrame({'Corr': corr, 'Importance': list(fi), 'Dict': dict[corr.index]})"
      ],
      "execution_count": 0,
      "outputs": []
    },
    {
      "cell_type": "code",
      "metadata": {
        "id": "6voeN0cu_vos",
        "colab_type": "code",
        "outputId": "73b8ce45-3260-45a0-a681-90471047c877",
        "colab": {
          "base_uri": "https://localhost:8080/",
          "height": 359
        }
      },
      "source": [
        "correlation = corr_importance('r130a')\n",
        "correlation.head(10)"
      ],
      "execution_count": 0,
      "outputs": [
        {
          "output_type": "execute_result",
          "data": {
            "text/html": [
              "<div>\n",
              "<style scoped>\n",
              "    .dataframe tbody tr th:only-of-type {\n",
              "        vertical-align: middle;\n",
              "    }\n",
              "\n",
              "    .dataframe tbody tr th {\n",
              "        vertical-align: top;\n",
              "    }\n",
              "\n",
              "    .dataframe thead th {\n",
              "        text-align: right;\n",
              "    }\n",
              "</style>\n",
              "<table border=\"1\" class=\"dataframe\">\n",
              "  <thead>\n",
              "    <tr style=\"text-align: right;\">\n",
              "      <th></th>\n",
              "      <th>Corr</th>\n",
              "      <th>Importance</th>\n",
              "      <th>Dict</th>\n",
              "    </tr>\n",
              "  </thead>\n",
              "  <tbody>\n",
              "    <tr>\n",
              "      <th>r130a</th>\n",
              "      <td>1.000000</td>\n",
              "      <td>0.015730</td>\n",
              "      <td>onde consegue medicação pressão</td>\n",
              "    </tr>\n",
              "    <tr>\n",
              "      <th>med_has</th>\n",
              "      <td>0.996625</td>\n",
              "      <td>0.005164</td>\n",
              "      <td>NaN</td>\n",
              "    </tr>\n",
              "    <tr>\n",
              "      <th>r174</th>\n",
              "      <td>0.995988</td>\n",
              "      <td>0.009320</td>\n",
              "      <td>nos últimos 30 dias, ficou sem medicação pressão</td>\n",
              "    </tr>\n",
              "    <tr>\n",
              "      <th>trat_med_has</th>\n",
              "      <td>0.994147</td>\n",
              "      <td>0.008305</td>\n",
              "      <td>NaN</td>\n",
              "    </tr>\n",
              "    <tr>\n",
              "      <th>ind_med_has</th>\n",
              "      <td>0.941980</td>\n",
              "      <td>0.008973</td>\n",
              "      <td>NaN</td>\n",
              "    </tr>\n",
              "    <tr>\n",
              "      <th>r129</th>\n",
              "      <td>0.912674</td>\n",
              "      <td>0.009499</td>\n",
              "      <td>medicamento</td>\n",
              "    </tr>\n",
              "    <tr>\n",
              "      <th>r203</th>\n",
              "      <td>0.912557</td>\n",
              "      <td>0.005980</td>\n",
              "      <td>NaN</td>\n",
              "    </tr>\n",
              "    <tr>\n",
              "      <th>has</th>\n",
              "      <td>0.912336</td>\n",
              "      <td>0.005807</td>\n",
              "      <td>NaN</td>\n",
              "    </tr>\n",
              "    <tr>\n",
              "      <th>hart</th>\n",
              "      <td>0.912336</td>\n",
              "      <td>0.006376</td>\n",
              "      <td>NaN</td>\n",
              "    </tr>\n",
              "    <tr>\n",
              "      <th>fet</th>\n",
              "      <td>0.447445</td>\n",
              "      <td>0.009445</td>\n",
              "      <td>Faixa etária</td>\n",
              "    </tr>\n",
              "  </tbody>\n",
              "</table>\n",
              "</div>"
            ],
            "text/plain": [
              "                  Corr  ...                                              Dict\n",
              "r130a         1.000000  ...                   onde consegue medicação pressão\n",
              "med_has       0.996625  ...                                               NaN\n",
              "r174          0.995988  ...  nos últimos 30 dias, ficou sem medicação pressão\n",
              "trat_med_has  0.994147  ...                                               NaN\n",
              "ind_med_has   0.941980  ...                                               NaN\n",
              "r129          0.912674  ...                                       medicamento\n",
              "r203          0.912557  ...                                               NaN\n",
              "has           0.912336  ...                                               NaN\n",
              "hart          0.912336  ...                                               NaN\n",
              "fet           0.447445  ...                                      Faixa etária\n",
              "\n",
              "[10 rows x 3 columns]"
            ]
          },
          "metadata": {
            "tags": []
          },
          "execution_count": 53
        }
      ]
    },
    {
      "cell_type": "code",
      "metadata": {
        "id": "IxJd3gAg8VAl",
        "colab_type": "code",
        "colab": {}
      },
      "source": [
        "# Remove Redundant Features\n",
        "redundant_features = list(set(correlation[:9].index) - {'r130a'})\n",
        "X.drop(redundant_features, axis=1,inplace=True)\n",
        "all2017.drop(redundant_features, axis=1,inplace=True)"
      ],
      "execution_count": 0,
      "outputs": []
    },
    {
      "cell_type": "markdown",
      "metadata": {
        "id": "2WHu6eX9C3_w",
        "colab_type": "text"
      },
      "source": [
        "### Repetindo o Processo"
      ]
    },
    {
      "cell_type": "code",
      "metadata": {
        "id": "z3F0siSbKfmL",
        "colab_type": "code",
        "outputId": "1776ddfc-47ae-4fce-b5be-6473358595f1",
        "colab": {
          "base_uri": "https://localhost:8080/",
          "height": 780
        }
      },
      "source": [
        "feature_importance = feature_importance_fun(X,y)\n",
        "most_important = list(feature_importance.index[:30])\n",
        "matriz_corr(X[most_important])"
      ],
      "execution_count": 0,
      "outputs": [
        {
          "output_type": "stream",
          "text": [
            "R^2 Training Score: 1.00 \n",
            "OOB Score: 0.89 \n",
            "R^2 Validation Score: 0.89\n"
          ],
          "name": "stdout"
        },
        {
          "output_type": "display_data",
          "data": {
            "image/png": "[encoded data removed]",
            "text/plain": [
              "<Figure size 1008x864 with 2 Axes>"
            ]
          },
          "metadata": {
            "tags": []
          }
        }
      ]
    },
    {
      "cell_type": "markdown",
      "metadata": {
        "id": "RJ7hKM9pLAno",
        "colab_type": "text"
      },
      "source": [
        "Vê se agora um baixo nível de correlação entre as principais variáveis restantes (observar legenda)."
      ]
    },
    {
      "cell_type": "markdown",
      "metadata": {
        "id": "wOYFXklOBCac",
        "colab_type": "text"
      },
      "source": [
        "# Feature Selection\n",
        "\n",
        "Em conjuntos de dados densos e com muita features, uma estratégia tem se mostrado adequada para feature selection: seleção inicial de features por método de Filtering para redução de 50% a 90% das features iniciais, seguida da aplicação de algorítmo de Wrapping para a redução de features até o nível desejado.\n",
        "\n",
        "Uma maneira de aplicar esta estratégia seria filtrar algumas features pela sua importância no método RandomForest como desenvolvido acima e em seguida, aplicar um wrapper como o Recursive Feature Elimination (RFE). Todavia, por motivos didáticos, a remoção das features se dará exclusivamente pelo RFE. Tal estratégia é mais eficaz (melhor precisão), porém menos eficiente (mais lenta)."
      ]
    },
    {
      "cell_type": "code",
      "metadata": {
        "id": "sQ8Z380k9pOT",
        "colab_type": "code",
        "outputId": "4f91df2a-4ad3-4094-cb9f-329170ce7182",
        "colab": {
          "base_uri": "https://localhost:8080/",
          "height": 136
        }
      },
      "source": [
        "clf = RandomForestClassifier(n_estimators=100) \n",
        "rfecv = RFECV(estimator=clf, step=1, cv=2,scoring='roc_auc')   #2-fold cross-validation\n",
        "rfecv = rfecv.fit(X, y)\n",
        "\n",
        "print('Optimal number of features :', rfecv.n_features_)\n",
        "print('Best features :', X.columns[rfecv.support_])"
      ],
      "execution_count": 0,
      "outputs": [
        {
          "output_type": "stream",
          "text": [
            "Optimal number of features : 149\n",
            "Best features : Index(['replica', 'mesfim', 'cidade', 'regiao', 'q6', 'q7', 'civil', 'q8a',\n",
            "       'q8b', 'q8_anos',\n",
            "       ...\n",
            "       'q59c_horas', 'tempo_tela_total', 'saruim', 'iddmamo', 'mamo',\n",
            "       'mamodois', 'iddpapa_old', 'iddpapa', 'papa', 'papatres'],\n",
            "      dtype='object', length=149)\n"
          ],
          "name": "stdout"
        }
      ]
    },
    {
      "cell_type": "code",
      "metadata": {
        "id": "-KWvS--8WGlc",
        "colab_type": "code",
        "outputId": "df741ef9-500f-4a47-c2ef-119ec732b037",
        "colab": {
          "base_uri": "https://localhost:8080/",
          "height": 301
        }
      },
      "source": [
        "# Plot number of features VS. cross-validation scores: roc-auc, 2-folds, 100 estimatos\n",
        "plt.figure()\n",
        "plt.title('RFE RandomForest Based')\n",
        "plt.xlabel(\"Number of features selected\")\n",
        "plt.ylabel(\"CV score of nº of selected features\")\n",
        "plt.plot(range(1, len(rfecv.grid_scores_) + 1), rfecv.grid_scores_)\n",
        "plt.show()"
      ],
      "execution_count": 0,
      "outputs": [
        {
          "output_type": "display_data",
          "data": {
            "image/png": "[encoded data removed]",
            "text/plain": [
              "<Figure size 432x288 with 1 Axes>"
            ]
          },
          "metadata": {
            "tags": []
          }
        }
      ]
    },
    {
      "cell_type": "code",
      "metadata": {
        "id": "2748rNCdWit2",
        "colab_type": "code",
        "outputId": "425d7a68-8431-4c2e-9576-4eacf129e89a",
        "colab": {
          "base_uri": "https://localhost:8080/",
          "height": 51
        }
      },
      "source": [
        "clf = XGBClassifier(n_estimators=100) \n",
        "rfecv = RFECV(estimator=clf, step=1, cv=2,scoring='roc_auc')   #2-fold cross-validation\n",
        "rfecv = rfecv.fit(X, y)\n",
        "\n",
        "print('Optimal number of features :', rfecv.n_features_)\n",
        "print('Best features :', X.columns[rfecv.support_])"
      ],
      "execution_count": 0,
      "outputs": [
        {
          "output_type": "stream",
          "text": [
            "Optimal number of features : 5\n",
            "Best features : Index(['q6', 'q30a', 'q74', 'q75', 'r130a'], dtype='object')\n"
          ],
          "name": "stdout"
        }
      ]
    },
    {
      "cell_type": "code",
      "metadata": {
        "id": "Tfp99m7-kD0S",
        "colab_type": "code",
        "outputId": "429f0421-2ba6-4522-ea81-b6fcb0f99a9c",
        "colab": {
          "base_uri": "https://localhost:8080/",
          "height": 301
        }
      },
      "source": [
        "# Plot number of features VS. cross-validation scores: roc-auc, 2-folds, 100 estimatos\n",
        "plt.figure()\n",
        "plt.title('RFE XGBoost Based')\n",
        "plt.xlabel(\"Number of features selected\")\n",
        "plt.ylabel(\"CV score of nº of selected features\")\n",
        "plt.plot(range(1, len(rfecv.grid_scores_) + 1), rfecv.grid_scores_)\n",
        "plt.show()"
      ],
      "execution_count": 0,
      "outputs": [
        {
          "output_type": "display_data",
          "data": {
            "image/png": "[encoded data removed]",
            "text/plain": [
              "<Figure size 432x288 with 1 Axes>"
            ]
          },
          "metadata": {
            "tags": []
          }
        }
      ]
    },
    {
      "cell_type": "markdown",
      "metadata": {
        "id": "uw9cIeK0mnx9",
        "colab_type": "text"
      },
      "source": [
        "Das gráficos acima, observa-se que o número de 30 features é razoável. "
      ]
    },
    {
      "cell_type": "code",
      "metadata": {
        "id": "W08M8xLyuD7f",
        "colab_type": "code",
        "outputId": "1967478b-3e71-4605-cb48-a90269638952",
        "colab": {
          "base_uri": "https://localhost:8080/",
          "height": 979
        }
      },
      "source": [
        "# Coleta e apresentação das 30 features selecionadas pelo RFECV baseano no XGBoost\n",
        "\n",
        "transform = np.vectorize(lambda x: True if x <=26 else False)\n",
        "best_features = transform(rfecv.ranking_)\n",
        "best_features = X.columns[best_features]\n",
        "pd.DataFrame({'Features': best_features, 'Importance': list(feature_importance[best_features]),\n",
        "              'Dict': list(dict[best_features])}).sort_values('Importance', ascending=False).reindex(range(30))"
      ],
      "execution_count": 0,
      "outputs": [
        {
          "output_type": "execute_result",
          "data": {
            "text/html": [
              "<div>\n",
              "<style scoped>\n",
              "    .dataframe tbody tr th:only-of-type {\n",
              "        vertical-align: middle;\n",
              "    }\n",
              "\n",
              "    .dataframe tbody tr th {\n",
              "        vertical-align: top;\n",
              "    }\n",
              "\n",
              "    .dataframe thead th {\n",
              "        text-align: right;\n",
              "    }\n",
              "</style>\n",
              "<table border=\"1\" class=\"dataframe\">\n",
              "  <thead>\n",
              "    <tr style=\"text-align: right;\">\n",
              "      <th></th>\n",
              "      <th>Features</th>\n",
              "      <th>Importance</th>\n",
              "      <th>Dict</th>\n",
              "    </tr>\n",
              "  </thead>\n",
              "  <tbody>\n",
              "    <tr>\n",
              "      <th>0</th>\n",
              "      <td>q6</td>\n",
              "      <td>0.027922</td>\n",
              "      <td>idade (anos)</td>\n",
              "    </tr>\n",
              "    <tr>\n",
              "      <th>1</th>\n",
              "      <td>q8_anos</td>\n",
              "      <td>0.016131</td>\n",
              "      <td>anos de estudo</td>\n",
              "    </tr>\n",
              "    <tr>\n",
              "      <th>2</th>\n",
              "      <td>q9</td>\n",
              "      <td>0.020310</td>\n",
              "      <td>peso (kg)</td>\n",
              "    </tr>\n",
              "    <tr>\n",
              "      <th>3</th>\n",
              "      <td>q27</td>\n",
              "      <td>0.007658</td>\n",
              "      <td>freq fruta</td>\n",
              "    </tr>\n",
              "    <tr>\n",
              "      <th>4</th>\n",
              "      <td>q28a</td>\n",
              "      <td>0.003443</td>\n",
              "      <td>ontem fruta</td>\n",
              "    </tr>\n",
              "    <tr>\n",
              "      <th>5</th>\n",
              "      <td>q29a</td>\n",
              "      <td>0.006124</td>\n",
              "      <td>ontem refrigerante/suco artificial</td>\n",
              "    </tr>\n",
              "    <tr>\n",
              "      <th>6</th>\n",
              "      <td>q30a</td>\n",
              "      <td>0.004155</td>\n",
              "      <td>que tipo refrigerante/suco artificial</td>\n",
              "    </tr>\n",
              "    <tr>\n",
              "      <th>7</th>\n",
              "      <td>q35</td>\n",
              "      <td>0.002654</td>\n",
              "      <td>bebida alcoólica</td>\n",
              "    </tr>\n",
              "    <tr>\n",
              "      <th>8</th>\n",
              "      <td>q36</td>\n",
              "      <td>0.005167</td>\n",
              "      <td>freq alcool</td>\n",
              "    </tr>\n",
              "    <tr>\n",
              "      <th>9</th>\n",
              "      <td>q38</td>\n",
              "      <td>0.001578</td>\n",
              "      <td>4 doses (mulher)</td>\n",
              "    </tr>\n",
              "    <tr>\n",
              "      <th>10</th>\n",
              "      <td>q55</td>\n",
              "      <td>0.004936</td>\n",
              "      <td>faxina</td>\n",
              "    </tr>\n",
              "    <tr>\n",
              "      <th>11</th>\n",
              "      <td>q59a</td>\n",
              "      <td>0.011735</td>\n",
              "      <td>quantas horas assiste tv / dia</td>\n",
              "    </tr>\n",
              "    <tr>\n",
              "      <th>12</th>\n",
              "      <td>q59b</td>\n",
              "      <td>0.004728</td>\n",
              "      <td>NaN</td>\n",
              "    </tr>\n",
              "    <tr>\n",
              "      <th>13</th>\n",
              "      <td>q59c</td>\n",
              "      <td>0.008896</td>\n",
              "      <td>NaN</td>\n",
              "    </tr>\n",
              "    <tr>\n",
              "      <th>14</th>\n",
              "      <td>q74</td>\n",
              "      <td>0.021913</td>\n",
              "      <td>estado de saúde</td>\n",
              "    </tr>\n",
              "    <tr>\n",
              "      <th>15</th>\n",
              "      <td>q75</td>\n",
              "      <td>0.020730</td>\n",
              "      <td>pressão alta</td>\n",
              "    </tr>\n",
              "    <tr>\n",
              "      <th>16</th>\n",
              "      <td>r130a</td>\n",
              "      <td>0.028877</td>\n",
              "      <td>onde consegue medicação pressão</td>\n",
              "    </tr>\n",
              "    <tr>\n",
              "      <th>17</th>\n",
              "      <td>q80</td>\n",
              "      <td>0.007511</td>\n",
              "      <td>tempo</td>\n",
              "    </tr>\n",
              "    <tr>\n",
              "      <th>18</th>\n",
              "      <td>q82</td>\n",
              "      <td>0.007560</td>\n",
              "      <td>tempo</td>\n",
              "    </tr>\n",
              "    <tr>\n",
              "      <th>19</th>\n",
              "      <td>q9_i</td>\n",
              "      <td>0.021298</td>\n",
              "      <td>peso (kg) - valores imputados</td>\n",
              "    </tr>\n",
              "    <tr>\n",
              "      <th>20</th>\n",
              "      <td>exfuma</td>\n",
              "      <td>0.004187</td>\n",
              "      <td>NaN</td>\n",
              "    </tr>\n",
              "    <tr>\n",
              "      <th>21</th>\n",
              "      <td>imc</td>\n",
              "      <td>0.023265</td>\n",
              "      <td>NaN</td>\n",
              "    </tr>\n",
              "    <tr>\n",
              "      <th>22</th>\n",
              "      <td>imc_i</td>\n",
              "      <td>0.026996</td>\n",
              "      <td>NaN</td>\n",
              "    </tr>\n",
              "    <tr>\n",
              "      <th>23</th>\n",
              "      <td>hortadia</td>\n",
              "      <td>0.007273</td>\n",
              "      <td>NaN</td>\n",
              "    </tr>\n",
              "    <tr>\n",
              "      <th>24</th>\n",
              "      <td>sofrutadia</td>\n",
              "      <td>0.007540</td>\n",
              "      <td>NaN</td>\n",
              "    </tr>\n",
              "    <tr>\n",
              "      <th>25</th>\n",
              "      <td>flvdia</td>\n",
              "      <td>0.010947</td>\n",
              "      <td>NaN</td>\n",
              "    </tr>\n",
              "    <tr>\n",
              "      <th>26</th>\n",
              "      <td>inativo</td>\n",
              "      <td>0.004148</td>\n",
              "      <td>NaN</td>\n",
              "    </tr>\n",
              "    <tr>\n",
              "      <th>27</th>\n",
              "      <td>tv_d_3</td>\n",
              "      <td>0.003074</td>\n",
              "      <td>NaN</td>\n",
              "    </tr>\n",
              "    <tr>\n",
              "      <th>28</th>\n",
              "      <td>q59a_horas</td>\n",
              "      <td>0.012060</td>\n",
              "      <td>RECODE of q59a (quantas horas assiste tv / dia)</td>\n",
              "    </tr>\n",
              "    <tr>\n",
              "      <th>29</th>\n",
              "      <td>saruim</td>\n",
              "      <td>0.003313</td>\n",
              "      <td>NaN</td>\n",
              "    </tr>\n",
              "  </tbody>\n",
              "</table>\n",
              "</div>"
            ],
            "text/plain": [
              "      Features  Importance                                             Dict\n",
              "0           q6    0.027922                                     idade (anos)\n",
              "1      q8_anos    0.016131                                   anos de estudo\n",
              "2           q9    0.020310                                        peso (kg)\n",
              "3          q27    0.007658                                       freq fruta\n",
              "4         q28a    0.003443                                      ontem fruta\n",
              "5         q29a    0.006124               ontem refrigerante/suco artificial\n",
              "6         q30a    0.004155            que tipo refrigerante/suco artificial\n",
              "7          q35    0.002654                                 bebida alcoólica\n",
              "8          q36    0.005167                                      freq alcool\n",
              "9          q38    0.001578                                 4 doses (mulher)\n",
              "10         q55    0.004936                                           faxina\n",
              "11        q59a    0.011735                   quantas horas assiste tv / dia\n",
              "12        q59b    0.004728                                              NaN\n",
              "13        q59c    0.008896                                              NaN\n",
              "14         q74    0.021913                                  estado de saúde\n",
              "15         q75    0.020730                                     pressão alta\n",
              "16       r130a    0.028877                  onde consegue medicação pressão\n",
              "17         q80    0.007511                                            tempo\n",
              "18         q82    0.007560                                            tempo\n",
              "19        q9_i    0.021298                    peso (kg) - valores imputados\n",
              "20      exfuma    0.004187                                              NaN\n",
              "21         imc    0.023265                                              NaN\n",
              "22       imc_i    0.026996                                              NaN\n",
              "23    hortadia    0.007273                                              NaN\n",
              "24  sofrutadia    0.007540                                              NaN\n",
              "25      flvdia    0.010947                                              NaN\n",
              "26     inativo    0.004148                                              NaN\n",
              "27      tv_d_3    0.003074                                              NaN\n",
              "28  q59a_horas    0.012060  RECODE of q59a (quantas horas assiste tv / dia)\n",
              "29      saruim    0.003313                                              NaN"
            ]
          },
          "metadata": {
            "tags": []
          },
          "execution_count": 138
        }
      ]
    },
    {
      "cell_type": "markdown",
      "metadata": {
        "id": "DqchXSu_CsRl",
        "colab_type": "text"
      },
      "source": [
        "# Modelagem"
      ]
    },
    {
      "cell_type": "code",
      "metadata": {
        "id": "un5C_uTbRi19",
        "colab_type": "code",
        "colab": {}
      },
      "source": [
        "def avaliation(X, y):\n",
        "    seeds = [0, 1, 7, 42]\n",
        "    RF_auc = RF_acc = []\n",
        "\n",
        "    XGB = XGBClassifier(n_estimators=100)\n",
        "    XGB_score = cross_validate(XGB, X, y, cv=4, n_jobs=-1, scoring = ['accuracy', 'roc_auc']) \n",
        "    result_XGB = [XGB_score['test_roc_auc'].mean(), XGB_score['test_accuracy'].mean()]\n",
        "\n",
        "    LGBM = LGBMClassifier(random_state=50)\n",
        "    LGBM_score = cross_validate(LGBM, X, y, cv=4, n_jobs=-1, scoring = ['accuracy', 'roc_auc']) \n",
        "    result_LGBM = [LGBM_score['test_roc_auc'].mean(), LGBM_score['test_accuracy'].mean()]\n",
        "\n",
        "    GBM = GradientBoostingClassifier(random_state=0)\n",
        "    GBM_score = cross_validate(GBM, X, y, cv=4, n_jobs=-1, scoring = ['accuracy', 'roc_auc']) \n",
        "    result_GBM = [GBM_score['test_roc_auc'].mean(), GBM_score['test_accuracy'].mean()]\n",
        "\n",
        "    for random_state in seeds:\n",
        "        RF = RandomForestClassifier(random_state=random_state)\n",
        "        RF_score = cross_validate(RF, X, y, cv=4, n_jobs=-1, scoring = ['accuracy', 'roc_auc']) \n",
        "        RF_auc = RF_auc + [RF_score['test_roc_auc'].mean()]\n",
        "        RF_acc = RF_acc + [RF_score['test_accuracy'].mean()]\n",
        "\n",
        "    result_RF = [np.array(RF_auc).mean(), np.array(RF_acc).mean()]\n",
        "\n",
        "    results = [result_RF, result_XGB, result_LGBM, result_GBM]\n",
        "    \n",
        "    return(pd.DataFrame(results,columns=['ROC-AUC', 'Accuracy'], index=['RandomForest', 'XGB', 'LGBM', 'GBM']))"
      ],
      "execution_count": 0,
      "outputs": []
    },
    {
      "cell_type": "code",
      "metadata": {
        "id": "fcrw6yvW42jO",
        "colab_type": "code",
        "outputId": "ecd14b95-d972-4bd4-fa1e-ebdbfbe4e2a6",
        "colab": {
          "base_uri": "https://localhost:8080/",
          "height": 173
        }
      },
      "source": [
        "# Todas as features\n",
        "avaliation(X,y)"
      ],
      "execution_count": 0,
      "outputs": [
        {
          "output_type": "execute_result",
          "data": {
            "text/html": [
              "<div>\n",
              "<style scoped>\n",
              "    .dataframe tbody tr th:only-of-type {\n",
              "        vertical-align: middle;\n",
              "    }\n",
              "\n",
              "    .dataframe tbody tr th {\n",
              "        vertical-align: top;\n",
              "    }\n",
              "\n",
              "    .dataframe thead th {\n",
              "        text-align: right;\n",
              "    }\n",
              "</style>\n",
              "<table border=\"1\" class=\"dataframe\">\n",
              "  <thead>\n",
              "    <tr style=\"text-align: right;\">\n",
              "      <th></th>\n",
              "      <th>ROC-AUC</th>\n",
              "      <th>Accuracy</th>\n",
              "    </tr>\n",
              "  </thead>\n",
              "  <tbody>\n",
              "    <tr>\n",
              "      <th>RandomForest</th>\n",
              "      <td>0.726186</td>\n",
              "      <td>0.883358</td>\n",
              "    </tr>\n",
              "    <tr>\n",
              "      <th>XGB</th>\n",
              "      <td>0.815573</td>\n",
              "      <td>0.869858</td>\n",
              "    </tr>\n",
              "    <tr>\n",
              "      <th>LGBM</th>\n",
              "      <td>0.793160</td>\n",
              "      <td>0.835259</td>\n",
              "    </tr>\n",
              "    <tr>\n",
              "      <th>GBM</th>\n",
              "      <td>0.808487</td>\n",
              "      <td>0.867369</td>\n",
              "    </tr>\n",
              "  </tbody>\n",
              "</table>\n",
              "</div>"
            ],
            "text/plain": [
              "               ROC-AUC  Accuracy\n",
              "RandomForest  0.726186  0.883358\n",
              "XGB           0.815573  0.869858\n",
              "LGBM          0.793160  0.835259\n",
              "GBM           0.808487  0.867369"
            ]
          },
          "metadata": {
            "tags": []
          },
          "execution_count": 173
        }
      ]
    },
    {
      "cell_type": "code",
      "metadata": {
        "id": "F_7tXiyG5Qf1",
        "colab_type": "code",
        "outputId": "3e2fab51-2d39-4d2c-930b-14a07a948ae0",
        "colab": {
          "base_uri": "https://localhost:8080/",
          "height": 173
        }
      },
      "source": [
        "# best features\n",
        "avaliation(X[best_features], y)"
      ],
      "execution_count": 0,
      "outputs": [
        {
          "output_type": "execute_result",
          "data": {
            "text/html": [
              "<div>\n",
              "<style scoped>\n",
              "    .dataframe tbody tr th:only-of-type {\n",
              "        vertical-align: middle;\n",
              "    }\n",
              "\n",
              "    .dataframe tbody tr th {\n",
              "        vertical-align: top;\n",
              "    }\n",
              "\n",
              "    .dataframe thead th {\n",
              "        text-align: right;\n",
              "    }\n",
              "</style>\n",
              "<table border=\"1\" class=\"dataframe\">\n",
              "  <thead>\n",
              "    <tr style=\"text-align: right;\">\n",
              "      <th></th>\n",
              "      <th>ROC-AUC</th>\n",
              "      <th>Accuracy</th>\n",
              "    </tr>\n",
              "  </thead>\n",
              "  <tbody>\n",
              "    <tr>\n",
              "      <th>RandomForest</th>\n",
              "      <td>0.739897</td>\n",
              "      <td>0.882561</td>\n",
              "    </tr>\n",
              "    <tr>\n",
              "      <th>XGB</th>\n",
              "      <td>0.824864</td>\n",
              "      <td>0.889373</td>\n",
              "    </tr>\n",
              "    <tr>\n",
              "      <th>LGBM</th>\n",
              "      <td>0.821865</td>\n",
              "      <td>0.888109</td>\n",
              "    </tr>\n",
              "    <tr>\n",
              "      <th>GBM</th>\n",
              "      <td>0.824245</td>\n",
              "      <td>0.889279</td>\n",
              "    </tr>\n",
              "  </tbody>\n",
              "</table>\n",
              "</div>"
            ],
            "text/plain": [
              "               ROC-AUC  Accuracy\n",
              "RandomForest  0.739897  0.882561\n",
              "XGB           0.824864  0.889373\n",
              "LGBM          0.821865  0.888109\n",
              "GBM           0.824245  0.889279"
            ]
          },
          "metadata": {
            "tags": []
          },
          "execution_count": 174
        }
      ]
    }
  ]
}
